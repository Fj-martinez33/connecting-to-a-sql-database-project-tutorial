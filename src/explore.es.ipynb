{
 "cells": [
  {
   "cell_type": "markdown",
   "metadata": {},
   "source": [
    "# Explora aquí\n",
    "\n",
    "Se recomienda utilizar este cuaderno con fines de exploración.\n",
    "\n",
    "Por ejemplo:\n",
    "\n",
    "1. Puede importar el CSV generado por Python a su computadora portátil y explorarlo.\n",
    "2. Puede conectarse a su base de datos usando `pandas.read_sql` desde este cuaderno y explorarla."
   ]
  },
  {
   "cell_type": "code",
   "execution_count": 5,
   "metadata": {},
   "outputs": [
    {
     "data": {
      "text/plain": [
       "<sqlalchemy.engine.base.Connection at 0x7f7c499ab650>"
      ]
     },
     "execution_count": 5,
     "metadata": {},
     "output_type": "execute_result"
    }
   ],
   "source": [
    "# Ejemplo de lectura de la base de datos SQL desde aquí\n",
    "import os\n",
    "from dotenv import load_dotenv\n",
    "from sqlalchemy import create_engine\n",
    "import pandas as pd\n",
    "\n",
    "# cargar las variables del archivo .env\n",
    "load_dotenv()\n",
    "\n",
    "connection_string = f\"postgresql://{os.getenv('DB_USER')}:{os.getenv('DB_PASSWORD')}@{os.getenv('DB_HOST')}/{os.getenv('DB_NAME')}\"\n",
    "engine = create_engine(connection_string).execution_options(autocommit=True)\n",
    "engine.connect()\n",
    "\n",
    "# dataframe = pd.read_sql(\"Select * from books;\", engine)\n",
    "# print(dataframe.describe())"
   ]
  },
  {
   "cell_type": "code",
   "execution_count": 29,
   "metadata": {},
   "outputs": [],
   "source": [
    "#Librerias\n",
    "\n",
    "import sqlite3\n",
    "import pandas as pd\n",
    "\n",
    "#Conectamos a la DB\n",
    "\n",
    "con = sqlite3.connect(\"exercise.db\")\n",
    "\n",
    "#Creamos el cursor\n",
    "\n",
    "c = con.cursor()"
   ]
  },
  {
   "cell_type": "code",
   "execution_count": 30,
   "metadata": {},
   "outputs": [
    {
     "data": {
      "text/plain": [
       "<sqlite3.Cursor at 0x7f7c42d0f940>"
      ]
     },
     "execution_count": 30,
     "metadata": {},
     "output_type": "execute_result"
    }
   ],
   "source": [
    "#Creamos las tablas\n",
    "\n",
    "#c.execute('''DROP TABLE publishers''')\n",
    "\n",
    "c.execute('''CREATE TABLE publishers(\n",
    "                id_publisher INT NOT NULL,\n",
    "                name VARCHAR(255) NOT NULL,\n",
    "                PRIMARY KEY(id_publisher)\n",
    ");''')\n",
    "\n",
    "c.execute('''CREATE TABLE authors(\n",
    "                id_author INT NOT NULL,\n",
    "                first_name VARCHAR(100) NOT NULL,\n",
    "                middle_name VARCHAR(100) NULL,\n",
    "                last_name VARCHAR(100) NULL,\n",
    "               PRIMARY KEY(id_author)\n",
    ");''')\n",
    "\n",
    "c.execute('''CREATE TABLE books(\n",
    "                id_book INT NOT NULL,\n",
    "                title VARCHAR(255) NOT NULL,\n",
    "                total_pages INT NULL,\n",
    "                rating DECIMAL(4, 2) NULL,\n",
    "                isbn VARCHAR(13) NULL,\n",
    "                published_date DATE,\n",
    "                id_publisher INT NULL,\n",
    "                PRIMARY KEY(id_book),\n",
    "                CONSTRAINT fk_publisher FOREIGN KEY(id_publisher) REFERENCES publishers(id_publisher)\n",
    ");''')\n",
    "\n",
    "c.execute('''CREATE TABLE book_authors(\n",
    "                id_book INT NOT NULL,\n",
    "                id_author INT NOT NULL,\n",
    "                PRIMARY KEY(id_book, id_author),\n",
    "                CONSTRAINT fk_book FOREIGN KEY(id_book) REFERENCES books(id_book) ON DELETE CASCADE,\n",
    "                CONSTRAINT fk_author FOREIGN KEY(id_author) REFERENCES authors(id_author) ON DELETE CASCADE\n",
    ");''')\n"
   ]
  },
  {
   "cell_type": "code",
   "execution_count": 34,
   "metadata": {},
   "outputs": [
    {
     "data": {
      "text/plain": [
       "<sqlite3.Cursor at 0x7f7c42d0f940>"
      ]
     },
     "execution_count": 34,
     "metadata": {},
     "output_type": "execute_result"
    }
   ],
   "source": [
    "#INSERTAMOS LOS DATOS\n",
    "data_publisher = [(1, \"O Reilly Media\"),(2, \"A Book Apart\"), (3, \"A K PETERS\"), (4, \"Academi Press\"), (5, \"Addison Wesley\"), (6, \"Albert&Sweigart\"),(7, \"Alfred A. Knopf\")]\n",
    "#c.executemany(\"INSERT INTO publishers(id_publisher, name) VALUES (?, ?);\", data_publisher)\n",
    "\n",
    "data_author = [(1, \"Merritt\",\"\", \"Eric\"), (2, \"Linda\",\"\", \"Mui\"), (3, \"Alecos\",\"\", \"Papadatos\"), (4, \"Anthony\", \"\", \"Molinaro\"), (5, \"David\", \"\", \"Cronin\"), (6, \"Richard\", \"\", \"Blum\"), (7, \"Yuval\", \"Noah\", \"Harari\"), (8, \"Paul\", \"\", \"Albitz\")] \n",
    "#c.executemany(\"INSERT INTO authors(id_author, first_name, middle_name, last_name) VALUES (?,?,?,?);\", data_author)\n"
   ]
  }
 ],
 "metadata": {
  "kernelspec": {
   "display_name": ".venv",
   "language": "python",
   "name": "python3"
  },
  "language_info": {
   "codemirror_mode": {
    "name": "ipython",
    "version": 3
   },
   "file_extension": ".py",
   "mimetype": "text/x-python",
   "name": "python",
   "nbconvert_exporter": "python",
   "pygments_lexer": "ipython3",
   "version": "3.12.6"
  },
  "orig_nbformat": 4
 },
 "nbformat": 4,
 "nbformat_minor": 2
}
