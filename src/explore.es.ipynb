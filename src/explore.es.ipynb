{
 "cells": [
  {
   "cell_type": "markdown",
   "metadata": {},
   "source": [
    "# Explora aquí\n",
    "\n",
    "Se recomienda utilizar este cuaderno con fines de exploración.\n",
    "\n",
    "Por ejemplo:\n",
    "\n",
    "1. Puede importar el CSV generado por Python a su computadora portátil y explorarlo.\n",
    "2. Puede conectarse a su base de datos usando `pandas.read_sql` desde este cuaderno y explorarla."
   ]
  },
  {
   "cell_type": "code",
   "execution_count": 5,
   "metadata": {},
   "outputs": [
    {
     "data": {
      "text/plain": [
       "<sqlalchemy.engine.base.Connection at 0x7f7c499ab650>"
      ]
     },
     "execution_count": 5,
     "metadata": {},
     "output_type": "execute_result"
    }
   ],
   "source": [
    "# Ejemplo de lectura de la base de datos SQL desde aquí\n",
    "import os\n",
    "from dotenv import load_dotenv\n",
    "from sqlalchemy import create_engine\n",
    "import pandas as pd\n",
    "\n",
    "# cargar las variables del archivo .env\n",
    "load_dotenv()\n",
    "\n",
    "connection_string = f\"postgresql://{os.getenv('DB_USER')}:{os.getenv('DB_PASSWORD')}@{os.getenv('DB_HOST')}/{os.getenv('DB_NAME')}\"\n",
    "engine = create_engine(connection_string).execution_options(autocommit=True)\n",
    "engine.connect()\n",
    "\n",
    "# dataframe = pd.read_sql(\"Select * from books;\", engine)\n",
    "# print(dataframe.describe())"
   ]
  },
  {
   "cell_type": "code",
   "execution_count": 6,
   "metadata": {},
   "outputs": [],
   "source": [
    "#Librerias\n",
    "\n",
    "import sqlite3\n",
    "import pandas as pd\n",
    "\n",
    "#Conectamos a la DB\n",
    "\n",
    "con = sqlite3.connect(\"exercise.db\")\n",
    "\n",
    "#Creamos el cursor\n",
    "\n",
    "c = con.cursor()"
   ]
  },
  {
   "cell_type": "code",
   "execution_count": 4,
   "metadata": {},
   "outputs": [],
   "source": [
    "#Creamos las tablas\n",
    "\n",
    "#c.execute('''DROP TABLE publishers''')\n",
    "\n",
    "#c.execute('''CREATE TABLE publishers(\n",
    "#                id_publisher INT NOT NULL,\n",
    "#                name VARCHAR(255) NOT NULL,\n",
    "#                PRIMARY KEY(id_publisher)\n",
    "#);''')\n",
    "\n",
    "#c.execute('''CREATE TABLE authors(\n",
    "#                id_author INT NOT NULL,\n",
    "#                first_name VARCHAR(100) NOT NULL,\n",
    "#                middle_name VARCHAR(100) NULL,\n",
    "#                last_name VARCHAR(100) NULL,\n",
    "#               PRIMARY KEY(id_author)\n",
    "#);''')\n",
    "\n",
    "#c.execute('''CREATE TABLE books(\n",
    "#                id_book INT NOT NULL,\n",
    "#                title VARCHAR(255) NOT NULL,\n",
    "#                total_pages INT NULL,\n",
    "#                rating DECIMAL(4, 2) NULL,\n",
    "#                isbn VARCHAR(13) NULL,\n",
    "#                published_date DATE,\n",
    "#                id_publisher INT NULL,\n",
    "#                PRIMARY KEY(id_book),\n",
    "#                CONSTRAINT fk_publisher FOREIGN KEY(id_publisher) REFERENCES publishers(id_publisher)\n",
    "#);''')\n",
    "\n",
    "#c.execute('''CREATE TABLE book_authors(\n",
    "#                id_book INT NOT NULL,\n",
    "#                id_author INT NOT NULL,\n",
    "#                PRIMARY KEY(id_book, id_author),\n",
    "#                CONSTRAINT fk_book FOREIGN KEY(id_book) REFERENCES books(id_book) ON DELETE CASCADE,\n",
    "#                CONSTRAINT fk_author FOREIGN KEY(id_author) REFERENCES authors(id_author) ON DELETE CASCADE\n",
    "#);''')\n"
   ]
  },
  {
   "cell_type": "code",
   "execution_count": 12,
   "metadata": {},
   "outputs": [],
   "source": [
    "#INSERTAMOS LOS DATOS\n",
    "\n",
    "data_publisher = [(1, \"O Reilly Media\"),(2, \"A Book Apart\"), (3, \"A K PETERS\"), (4, \"Academi Press\"), (5, \"Addison Wesley\"), (6, \"Albert&Sweigart\"),(7, \"Alfred A. Knopf\")]\n",
    "c.executemany(\"INSERT INTO publishers(id_publisher, name) VALUES (?, ?);\", data_publisher)\n",
    "\n",
    "data_author = [(1, \"Merritt\",\"\", \"Eric\"), (2, \"Linda\",\"\", \"Mui\"), (3, \"Alecos\",\"\", \"Papadatos\"), (4, \"Anthony\", \"\", \"Molinaro\"), (5, \"David\", \"\", \"Cronin\"), (6, \"Richard\", \"\", \"Blum\"), (7, \"Yuval\", \"Noah\", \"Harari\"), (8, \"Paul\", \"\", \"Albitz\")] \n",
    "c.executemany(\"INSERT INTO authors(id_author, first_name, middle_name, last_name) VALUES (?,?,?,?);\", data_author)\n",
    "\n",
    "data_books = [(1, \"Lean Software Development: An Agile Toolkit\", 240, 4.17, \"9780320000000\", \"2003-05-18\", 5), (2, \"Facing the Intelligence Explosion\", 91, 3.87, \"\", \"2013-02-01\", 7), (3, \"Scala in Action\", 419, 3.74, \"9781940000000\", \"2013-04-10\", 1), (4, \"Patterns of Software: Tales from the Software Community\", 256, 3.84, \"9780200000000\", \"1996-08-15\", 1), (5, \"Anatomy Of LISP\", 446, 4.43, \"9780070000000\", \"1978-01-01\", 3), (6, \"Computing machinery and intelligence\", 24, 4.17, \"\", \"2009-03-22\", 4), (7, \"XML: Visual QuickStart Guide\", 269, 3.66, \"9780320000000\", \"2009-01-01\", 5), (8, \"SQL Cookbook\", 595, 3.95, \"9780600000000\", \"2005-12-01\", 7), (9, \"The Apollo Guidance Computer: Architecture And Operation (Springer Praxis Books / Space Exploration)\", 439, 4.29, \"9781440000000\", \"2010-07-01\", 6), (10, \"Minds and Computers: An Introduction to the Philosophy of Artificial Intelligence\", 222, 3.54, \"9780750000000\", \"2007-02-13\", 7) ]\n",
    "c.executemany(\"INSERT INTO books(id_book, title, total_pages, rating, isbn, published_date, id_publisher) VALUES (?,?,?,?,?,?,?);\", data_books)\n",
    "\n",
    "data_bookauthors = [(1, 1), (2, 8), (3, 7), (4, 6), (5, 5), (6, 4), (7, 3), (8, 2), (9, 4), (10, 1)]\n",
    "c.executemany(\"INSERT INTO book_authors(id_book, id_author) VALUES (?,?);\", data_bookauthors)\n",
    "\n",
    "con.commit() #No olvidarse del Commit o no va a actualizar en la vida\n"
   ]
  },
  {
   "cell_type": "code",
   "execution_count": 19,
   "metadata": {},
   "outputs": [
    {
     "name": "stdout",
     "output_type": "stream",
     "text": [
      "                         name\n",
      "id_publisher                 \n",
      "1              O Reilly Media\n",
      "2                A Book Apart\n",
      "3                  A K PETERS\n",
      "4               Academi Press\n",
      "5              Addison Wesley\n",
      "6             Albert&Sweigart\n",
      "7             Alfred A. Knopf\n"
     ]
    }
   ],
   "source": [
    "#Imprimimos las tablas usando pandas.\n",
    "\n",
    "publisher_df = pd.read_sql_query(\"SELECT * FROM publishers;\", con, index_col=\"id_publisher\")\n",
    "\n",
    "print (publisher_df)"
   ]
  }
 ],
 "metadata": {
  "kernelspec": {
   "display_name": ".venv",
   "language": "python",
   "name": "python3"
  },
  "language_info": {
   "codemirror_mode": {
    "name": "ipython",
    "version": 3
   },
   "file_extension": ".py",
   "mimetype": "text/x-python",
   "name": "python",
   "nbconvert_exporter": "python",
   "pygments_lexer": "ipython3",
   "version": "3.12.6"
  },
  "orig_nbformat": 4
 },
 "nbformat": 4,
 "nbformat_minor": 2
}
